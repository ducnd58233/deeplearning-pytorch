{
 "cells": [
  {
   "cell_type": "code",
   "execution_count": 1,
   "metadata": {},
   "outputs": [],
   "source": [
    "import torch\n",
    "import torch.nn as nn\n",
    "\n",
    "from torchvision.datasets import MNIST\n",
    "from torchvision import transforms\n",
    "from torch.utils.data import DataLoader\n",
    "\n",
    "\n",
    "device = torch.device(\"cuda\") if torch.cuda.is_available() else torch.device(\"cpu\")"
   ]
  },
  {
   "cell_type": "code",
   "execution_count": 2,
   "metadata": {},
   "outputs": [],
   "source": [
    "train_data = MNIST(\n",
    "    root='../data', \n",
    "    train=True, \n",
    "    download=True, \n",
    "    transform=transforms.Compose([\n",
    "        transforms.ToTensor(),\n",
    "        transforms.Normalize((0.1307,), (0.3081,))\n",
    "    ])\n",
    ")\n",
    "test_data = MNIST(\n",
    "    root='../data', \n",
    "    train=False, \n",
    "    download=True, \n",
    "    transform=transforms.Compose([\n",
    "        transforms.ToTensor(),\n",
    "        transforms.Normalize((0.1307,), (0.3081,))\n",
    "    ])\n",
    ")"
   ]
  },
  {
   "cell_type": "code",
   "execution_count": 3,
   "metadata": {},
   "outputs": [],
   "source": [
    "import os, sys\n",
    "sys.path.append('../')\n",
    "from models.cnn.LeNet.LeNet5 import LeNet\n",
    "\n",
    "learning_rate = 1e-4\n",
    "\n",
    "lenet = LeNet(10).to(device)\n",
    "loss_fn = nn.CrossEntropyLoss()\n",
    "optimizer = torch.optim.Adam(lenet.parameters(), lr=learning_rate)\n",
    "\n",
    "train_loader = DataLoader(\n",
    "    dataset=train_data, \n",
    "    batch_size=512, \n",
    "    num_workers=4, \n",
    "    shuffle=True\n",
    ")\n",
    "test_loader = DataLoader(\n",
    "    dataset=test_data, \n",
    "    batch_size=512, \n",
    "    num_workers=4, \n",
    "    shuffle=False\n",
    ")"
   ]
  },
  {
   "cell_type": "code",
   "execution_count": 4,
   "metadata": {},
   "outputs": [
    {
     "name": "stdout",
     "output_type": "stream",
     "text": [
      "Epoch 1:\n"
     ]
    },
    {
     "name": "stderr",
     "output_type": "stream",
     "text": [
      "Train: 100%|██████████| 118/118 [00:22<00:00,  5.17batch/s, loss: 28.497002%, accuracy: 78.423332% [47054/60000]]\n",
      "Test: 100%|██████████| 20/20 [00:04<00:00,  4.03batch/s, loss: 49.533760%, accuracy: 91.129997% [9113/10000]]\n"
     ]
    },
    {
     "name": "stdout",
     "output_type": "stream",
     "text": [
      "Epoch 2:\n"
     ]
    },
    {
     "name": "stderr",
     "output_type": "stream",
     "text": [
      "Train: 100%|██████████| 118/118 [00:21<00:00,  5.44batch/s, loss: 19.311235%, accuracy: 92.378334% [55427/60000]]\n",
      "Test: 100%|██████████| 20/20 [00:04<00:00,  4.13batch/s, loss: 34.198570%, accuracy: 94.470001% [9447/10000]]\n"
     ]
    },
    {
     "name": "stdout",
     "output_type": "stream",
     "text": [
      "Epoch 3:\n"
     ]
    },
    {
     "name": "stderr",
     "output_type": "stream",
     "text": [
      "Train: 100%|██████████| 118/118 [00:22<00:00,  5.22batch/s, loss: 19.592243%, accuracy: 94.886665% [56932/60000]]\n",
      "Test: 100%|██████████| 20/20 [00:04<00:00,  4.20batch/s, loss: 25.428625%, accuracy: 95.889999% [9589/10000]]\n"
     ]
    },
    {
     "name": "stdout",
     "output_type": "stream",
     "text": [
      "Epoch 4:\n"
     ]
    },
    {
     "name": "stderr",
     "output_type": "stream",
     "text": [
      "Train: 100%|██████████| 118/118 [00:22<00:00,  5.23batch/s, loss: 10.276804%, accuracy: 96.093330% [57656/60000]]\n",
      "Test: 100%|██████████| 20/20 [00:04<00:00,  4.22batch/s, loss: 19.641253%, accuracy: 96.970001% [9697/10000]]\n"
     ]
    },
    {
     "name": "stdout",
     "output_type": "stream",
     "text": [
      "Epoch 5:\n"
     ]
    },
    {
     "name": "stderr",
     "output_type": "stream",
     "text": [
      "Train: 100%|██████████| 118/118 [00:22<00:00,  5.26batch/s, loss: 7.162550%, accuracy: 96.928337% [58157/60000]] \n",
      "Test: 100%|██████████| 20/20 [00:05<00:00,  3.98batch/s, loss: 15.636367%, accuracy: 97.410004% [9741/10000]]\n"
     ]
    },
    {
     "name": "stdout",
     "output_type": "stream",
     "text": [
      "Epoch 6:\n"
     ]
    },
    {
     "name": "stderr",
     "output_type": "stream",
     "text": [
      "Train: 100%|██████████| 118/118 [00:22<00:00,  5.31batch/s, loss: 9.523867%, accuracy: 97.373337% [58424/60000]] \n",
      "Test: 100%|██████████| 20/20 [00:04<00:00,  4.31batch/s, loss: 11.930494%, accuracy: 97.830002% [9783/10000]]\n"
     ]
    },
    {
     "name": "stdout",
     "output_type": "stream",
     "text": [
      "Epoch 7:\n"
     ]
    },
    {
     "name": "stderr",
     "output_type": "stream",
     "text": [
      "Train: 100%|██████████| 118/118 [00:21<00:00,  5.51batch/s, loss: 3.122895%, accuracy: 97.688332% [58613/60000]] \n",
      "Test: 100%|██████████| 20/20 [00:04<00:00,  4.31batch/s, loss: 11.442211%, accuracy: 97.970001% [9797/10000]]\n"
     ]
    },
    {
     "name": "stdout",
     "output_type": "stream",
     "text": [
      "Epoch 8:\n"
     ]
    },
    {
     "name": "stderr",
     "output_type": "stream",
     "text": [
      "Train: 100%|██████████| 118/118 [00:22<00:00,  5.32batch/s, loss: 7.557575%, accuracy: 97.888336% [58733/60000]] \n",
      "Test: 100%|██████████| 20/20 [00:04<00:00,  4.21batch/s, loss: 10.254688%, accuracy: 98.190002% [9819/10000]]\n"
     ]
    },
    {
     "name": "stdout",
     "output_type": "stream",
     "text": [
      "Epoch 9:\n"
     ]
    },
    {
     "name": "stderr",
     "output_type": "stream",
     "text": [
      "Train: 100%|██████████| 118/118 [00:22<00:00,  5.25batch/s, loss: 4.174745%, accuracy: 98.126663% [58876/60000]]\n",
      "Test: 100%|██████████| 20/20 [00:04<00:00,  4.09batch/s, loss: 11.145879%, accuracy: 98.199997% [9820/10000]]\n"
     ]
    },
    {
     "name": "stdout",
     "output_type": "stream",
     "text": [
      "Epoch 10:\n"
     ]
    },
    {
     "name": "stderr",
     "output_type": "stream",
     "text": [
      "Train: 100%|██████████| 118/118 [00:22<00:00,  5.28batch/s, loss: 2.916642%, accuracy: 98.248337% [58949/60000]] \n",
      "Test: 100%|██████████| 20/20 [00:04<00:00,  4.26batch/s, loss: 9.735552%, accuracy: 98.300003% [9830/10000]]\n"
     ]
    }
   ],
   "source": [
    "import os, sys\n",
    "sys.path.append('../')\n",
    "from utils.trainer import train, test\n",
    "\n",
    "epochs = 10\n",
    "\n",
    "for epoch in range(1, epochs + 1):\n",
    "    print(f\"Epoch {epoch}:\")\n",
    "    train(lenet, train_loader, optimizer, loss_fn, 10)\n",
    "    test(lenet, test_loader, loss_fn, 10)\n",
    "    "
   ]
  }
 ],
 "metadata": {
  "interpreter": {
   "hash": "183bbf6827d058c2a2fb0f4acdc0420849dda2b4380af0e437e38c64d798d8b7"
  },
  "kernelspec": {
   "display_name": "Python 3.9.7 ('base')",
   "language": "python",
   "name": "python3"
  },
  "language_info": {
   "codemirror_mode": {
    "name": "ipython",
    "version": 3
   },
   "file_extension": ".py",
   "mimetype": "text/x-python",
   "name": "python",
   "nbconvert_exporter": "python",
   "pygments_lexer": "ipython3",
   "version": "3.9.7"
  },
  "orig_nbformat": 4
 },
 "nbformat": 4,
 "nbformat_minor": 2
}
