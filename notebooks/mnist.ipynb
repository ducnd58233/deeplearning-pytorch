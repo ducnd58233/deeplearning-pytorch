{
 "cells": [
  {
   "cell_type": "code",
   "execution_count": 1,
   "metadata": {},
   "outputs": [],
   "source": [
    "import torch\n",
    "import torch.nn as nn\n",
    "\n",
    "from torchvision.datasets import MNIST\n",
    "from torchvision import transforms\n",
    "from torch.utils.data import DataLoader\n",
    "\n",
    "\n",
    "device = torch.device(\"cuda\") if torch.cuda.is_available() else torch.device(\"cpu\")"
   ]
  },
  {
   "cell_type": "code",
   "execution_count": 2,
   "metadata": {},
   "outputs": [],
   "source": [
    "train_data = MNIST(root='../data', train=True, download=True, transform=transforms.ToTensor())\n",
    "test_data = MNIST(root='../data', train=False, download=True, transform=transforms.ToTensor())"
   ]
  },
  {
   "cell_type": "code",
   "execution_count": 3,
   "metadata": {},
   "outputs": [],
   "source": [
    "import os, sys\n",
    "sys.path.append('../')\n",
    "from models.cnn.LeNet.LeNet5 import LeNet\n",
    "\n",
    "learning_rate = 1e-4\n",
    "\n",
    "model = LeNet(10).to(device)\n",
    "loss_fn = nn.CrossEntropyLoss()\n",
    "optimizer = torch.optim.Adam(model.parameters(), lr=learning_rate)\n",
    "\n",
    "train_loader = DataLoader(dataset=train_data, batch_size=512, num_workers=4, shuffle=True)\n",
    "test_loader = DataLoader(dataset=test_data, batch_size=512, num_workers=4, shuffle=False)"
   ]
  },
  {
   "cell_type": "code",
   "execution_count": 4,
   "metadata": {},
   "outputs": [
    {
     "name": "stdout",
     "output_type": "stream",
     "text": [
      "Epoch 1:\n"
     ]
    },
    {
     "name": "stderr",
     "output_type": "stream",
     "text": [
      "Train: 100%|██████████| 118/118 [00:26<00:00,  4.37batch/s, loss: 52.312107%, accuracy: 74.239998% [44544/60000]]\n",
      "Test: 100%|██████████| 20/20 [00:05<00:00,  3.36batch/s, loss: 66.795479%, accuracy: 87.989998% [8799/10000]]\n"
     ]
    },
    {
     "name": "stdout",
     "output_type": "stream",
     "text": [
      "Epoch 2:\n"
     ]
    },
    {
     "name": "stderr",
     "output_type": "stream",
     "text": [
      "Train: 100%|██████████| 118/118 [00:25<00:00,  4.55batch/s, loss: 23.937130%, accuracy: 89.898331% [53939/60000]]\n",
      "Test: 100%|██████████| 20/20 [00:05<00:00,  3.68batch/s, loss: 46.474640%, accuracy: 92.269997% [9227/10000]]\n"
     ]
    },
    {
     "name": "stdout",
     "output_type": "stream",
     "text": [
      "Epoch 3:\n"
     ]
    },
    {
     "name": "stderr",
     "output_type": "stream",
     "text": [
      "Train: 100%|██████████| 118/118 [00:26<00:00,  4.39batch/s, loss: 22.852083%, accuracy: 92.565002% [55539/60000]]\n",
      "Test: 100%|██████████| 20/20 [00:06<00:00,  3.11batch/s, loss: 34.508587%, accuracy: 94.139999% [9414/10000]]\n"
     ]
    },
    {
     "name": "stdout",
     "output_type": "stream",
     "text": [
      "Epoch 4:\n"
     ]
    },
    {
     "name": "stderr",
     "output_type": "stream",
     "text": [
      "Train: 100%|██████████| 118/118 [00:27<00:00,  4.32batch/s, loss: 17.981628%, accuracy: 94.376663% [56626/60000]]\n",
      "Test: 100%|██████████| 20/20 [00:05<00:00,  3.46batch/s, loss: 28.637451%, accuracy: 95.470001% [9547/10000]]\n"
     ]
    },
    {
     "name": "stdout",
     "output_type": "stream",
     "text": [
      "Epoch 5:\n"
     ]
    },
    {
     "name": "stderr",
     "output_type": "stream",
     "text": [
      "Train: 100%|██████████| 118/118 [00:27<00:00,  4.29batch/s, loss: 12.603625%, accuracy: 95.470001% [57282/60000]]\n",
      "Test: 100%|██████████| 20/20 [00:04<00:00,  4.03batch/s, loss: 25.651220%, accuracy: 96.250000% [9625/10000]]\n"
     ]
    },
    {
     "name": "stdout",
     "output_type": "stream",
     "text": [
      "Epoch 6:\n"
     ]
    },
    {
     "name": "stderr",
     "output_type": "stream",
     "text": [
      "Train: 100%|██████████| 118/118 [00:23<00:00,  5.01batch/s, loss: 10.336960%, accuracy: 96.184998% [57711/60000]]\n",
      "Test: 100%|██████████| 20/20 [00:04<00:00,  4.06batch/s, loss: 20.765976%, accuracy: 96.949997% [9695/10000]]\n"
     ]
    },
    {
     "name": "stdout",
     "output_type": "stream",
     "text": [
      "Epoch 7:\n"
     ]
    },
    {
     "name": "stderr",
     "output_type": "stream",
     "text": [
      "Train: 100%|██████████| 118/118 [00:23<00:00,  5.04batch/s, loss: 17.490417%, accuracy: 96.743332% [58046/60000]]\n",
      "Test: 100%|██████████| 20/20 [00:04<00:00,  4.16batch/s, loss: 18.372967%, accuracy: 97.410004% [9741/10000]]\n"
     ]
    },
    {
     "name": "stdout",
     "output_type": "stream",
     "text": [
      "Epoch 8:\n"
     ]
    },
    {
     "name": "stderr",
     "output_type": "stream",
     "text": [
      "Train: 100%|██████████| 118/118 [00:23<00:00,  5.05batch/s, loss: 13.042265%, accuracy: 97.098335% [58259/60000]]\n",
      "Test: 100%|██████████| 20/20 [00:05<00:00,  3.94batch/s, loss: 16.653059%, accuracy: 97.610001% [9761/10000]]\n"
     ]
    },
    {
     "name": "stdout",
     "output_type": "stream",
     "text": [
      "Epoch 9:\n"
     ]
    },
    {
     "name": "stderr",
     "output_type": "stream",
     "text": [
      "Train: 100%|██████████| 118/118 [00:27<00:00,  4.33batch/s, loss: 4.197481%, accuracy: 97.418335% [58451/60000]] \n",
      "Test: 100%|██████████| 20/20 [00:06<00:00,  3.33batch/s, loss: 16.045704%, accuracy: 97.820000% [9782/10000]]\n"
     ]
    },
    {
     "name": "stdout",
     "output_type": "stream",
     "text": [
      "Epoch 10:\n"
     ]
    },
    {
     "name": "stderr",
     "output_type": "stream",
     "text": [
      "Train: 100%|██████████| 118/118 [00:25<00:00,  4.69batch/s, loss: 3.015443%, accuracy: 97.618332% [58571/60000]] \n",
      "Test: 100%|██████████| 20/20 [00:05<00:00,  3.74batch/s, loss: 16.016920%, accuracy: 97.910004% [9791/10000]]\n"
     ]
    }
   ],
   "source": [
    "import os, sys\n",
    "sys.path.append('../')\n",
    "from utils.trainer import train, test\n",
    "\n",
    "epochs = 10\n",
    "\n",
    "for epoch in range(1, epochs + 1):\n",
    "    print(f\"Epoch {epoch}:\")\n",
    "    train(model, train_loader, optimizer, loss_fn, 10)\n",
    "    test(model, test_loader, loss_fn, 10)\n",
    "    "
   ]
  },
  {
   "cell_type": "code",
   "execution_count": null,
   "metadata": {},
   "outputs": [],
   "source": []
  }
 ],
 "metadata": {
  "interpreter": {
   "hash": "183bbf6827d058c2a2fb0f4acdc0420849dda2b4380af0e437e38c64d798d8b7"
  },
  "kernelspec": {
   "display_name": "Python 3.9.7 ('base')",
   "language": "python",
   "name": "python3"
  },
  "language_info": {
   "codemirror_mode": {
    "name": "ipython",
    "version": 3
   },
   "file_extension": ".py",
   "mimetype": "text/x-python",
   "name": "python",
   "nbconvert_exporter": "python",
   "pygments_lexer": "ipython3",
   "version": "3.9.7"
  },
  "orig_nbformat": 4
 },
 "nbformat": 4,
 "nbformat_minor": 2
}
