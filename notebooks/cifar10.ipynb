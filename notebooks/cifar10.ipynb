{
 "cells": [
  {
   "cell_type": "code",
   "execution_count": 1,
   "metadata": {},
   "outputs": [],
   "source": [
    "import torch\n",
    "import torch.nn as nn\n",
    "\n",
    "from torchvision.datasets import CIFAR10\n",
    "from torchvision import transforms\n",
    "from torch.utils.data import DataLoader\n",
    "\n",
    "\n",
    "device = torch.device(\"cuda\") if torch.cuda.is_available() else torch.device(\"cpu\")"
   ]
  },
  {
   "cell_type": "code",
   "execution_count": 2,
   "metadata": {},
   "outputs": [
    {
     "name": "stdout",
     "output_type": "stream",
     "text": [
      "Downloading https://www.cs.toronto.edu/~kriz/cifar-10-python.tar.gz to ../data\\cifar-10-python.tar.gz\n"
     ]
    },
    {
     "name": "stderr",
     "output_type": "stream",
     "text": [
      "170499072it [10:19, 275414.05it/s]                               \n"
     ]
    },
    {
     "name": "stdout",
     "output_type": "stream",
     "text": [
      "Extracting ../data\\cifar-10-python.tar.gz to ../data\n",
      "Files already downloaded and verified\n"
     ]
    }
   ],
   "source": [
    "train_data = CIFAR10(root='../data', train=True, download=True, transform=transforms.ToTensor()).to(device)\n",
    "test_data = CIFAR10(root='../data', train=False, download=True, transform=transforms.ToTensor()).to(device)"
   ]
  },
  {
   "cell_type": "code",
   "execution_count": 3,
   "metadata": {},
   "outputs": [],
   "source": [
    "import os, sys\n",
    "sys.path.append('../')\n",
    "from models.cnn.ResNet.ResNet import ResNet\n",
    "\n",
    "learning_rate = 1e-4\n",
    "\n",
    "model = ResNet(10).to(device)\n",
    "loss_fn = nn.CrossEntropyLoss()\n",
    "optimizer = torch.optim.Adam(model.parameters(), lr=learning_rate)\n",
    "\n",
    "train_loader = DataLoader(dataset=train_data, batch_size=512, num_workers=4, shuffle=True)\n",
    "test_loader = DataLoader(dataset=test_data, batch_size=512, num_workers=4, shuffle=False)"
   ]
  },
  {
   "cell_type": "code",
   "execution_count": 4,
   "metadata": {},
   "outputs": [
    {
     "name": "stdout",
     "output_type": "stream",
     "text": [
      "Epoch 1:\n"
     ]
    },
    {
     "name": "stderr",
     "output_type": "stream",
     "text": [
      "Train: 100%|██████████| 98/98 [04:23<00:00,  2.68s/batch, loss: 201.400635%, accuracy: 19.636000% [9818/50000]]\n",
      "Test: 100%|██████████| 20/20 [00:20<00:00,  1.03s/batch, loss: 197.011993%, accuracy: 26.600000% [2660/10000]]\n"
     ]
    },
    {
     "name": "stdout",
     "output_type": "stream",
     "text": [
      "Epoch 2:\n"
     ]
    },
    {
     "name": "stderr",
     "output_type": "stream",
     "text": [
      "Train: 100%|██████████| 98/98 [04:19<00:00,  2.65s/batch, loss: 172.400909%, accuracy: 28.914000% [14457/50000]]\n",
      "Test: 100%|██████████| 20/20 [00:20<00:00,  1.04s/batch, loss: 181.630661%, accuracy: 32.990002% [3299/10000]]\n"
     ]
    },
    {
     "name": "stdout",
     "output_type": "stream",
     "text": [
      "Epoch 3:\n"
     ]
    },
    {
     "name": "stderr",
     "output_type": "stream",
     "text": [
      "Train: 100%|██████████| 98/98 [04:18<00:00,  2.64s/batch, loss: 170.630844%, accuracy: 34.251999% [17126/50000]]\n",
      "Test: 100%|██████████| 20/20 [00:21<00:00,  1.06s/batch, loss: 173.080246%, accuracy: 34.849998% [3485/10000]]\n"
     ]
    },
    {
     "name": "stdout",
     "output_type": "stream",
     "text": [
      "Epoch 4:\n"
     ]
    },
    {
     "name": "stderr",
     "output_type": "stream",
     "text": [
      "Train: 100%|██████████| 98/98 [04:17<00:00,  2.63s/batch, loss: 160.371918%, accuracy: 37.646000% [18823/50000]]\n",
      "Test: 100%|██████████| 20/20 [00:21<00:00,  1.06s/batch, loss: 166.079224%, accuracy: 37.259998% [3726/10000]]\n"
     ]
    },
    {
     "name": "stdout",
     "output_type": "stream",
     "text": [
      "Epoch 5:\n"
     ]
    },
    {
     "name": "stderr",
     "output_type": "stream",
     "text": [
      "Train: 100%|██████████| 98/98 [04:45<00:00,  2.91s/batch, loss: 159.676331%, accuracy: 40.214001% [20107/50000]]\n",
      "Test: 100%|██████████| 20/20 [00:24<00:00,  1.21s/batch, loss: 160.902298%, accuracy: 41.389999% [4139/10000]]\n"
     ]
    },
    {
     "name": "stdout",
     "output_type": "stream",
     "text": [
      "Epoch 6:\n"
     ]
    },
    {
     "name": "stderr",
     "output_type": "stream",
     "text": [
      "Train: 100%|██████████| 98/98 [05:01<00:00,  3.07s/batch, loss: 156.688232%, accuracy: 42.250000% [21125/50000]]\n",
      "Test: 100%|██████████| 20/20 [00:23<00:00,  1.16s/batch, loss: 155.099899%, accuracy: 42.970001% [4297/10000]]\n"
     ]
    },
    {
     "name": "stdout",
     "output_type": "stream",
     "text": [
      "Epoch 7:\n"
     ]
    },
    {
     "name": "stderr",
     "output_type": "stream",
     "text": [
      "Train: 100%|██████████| 98/98 [04:50<00:00,  2.97s/batch, loss: 149.986847%, accuracy: 43.605999% [21803/50000]]\n",
      "Test: 100%|██████████| 20/20 [00:21<00:00,  1.07s/batch, loss: 155.025726%, accuracy: 44.369999% [4437/10000]]\n"
     ]
    },
    {
     "name": "stdout",
     "output_type": "stream",
     "text": [
      "Epoch 8:\n"
     ]
    },
    {
     "name": "stderr",
     "output_type": "stream",
     "text": [
      "Train: 100%|██████████| 98/98 [04:59<00:00,  3.05s/batch, loss: 145.871704%, accuracy: 44.900002% [22450/50000]]\n",
      "Test: 100%|██████████| 20/20 [00:23<00:00,  1.17s/batch, loss: 148.882126%, accuracy: 46.099998% [4610/10000]]\n"
     ]
    },
    {
     "name": "stdout",
     "output_type": "stream",
     "text": [
      "Epoch 9:\n"
     ]
    },
    {
     "name": "stderr",
     "output_type": "stream",
     "text": [
      "Train: 100%|██████████| 98/98 [05:05<00:00,  3.12s/batch, loss: 142.240891%, accuracy: 46.271999% [23136/50000]]\n",
      "Test: 100%|██████████| 20/20 [00:23<00:00,  1.16s/batch, loss: 150.989288%, accuracy: 46.130001% [4613/10000]]\n"
     ]
    },
    {
     "name": "stdout",
     "output_type": "stream",
     "text": [
      "Epoch 10:\n"
     ]
    },
    {
     "name": "stderr",
     "output_type": "stream",
     "text": [
      "Train: 100%|██████████| 98/98 [04:45<00:00,  2.91s/batch, loss: 142.764481%, accuracy: 47.712002% [23856/50000]]\n",
      "Test: 100%|██████████| 20/20 [00:22<00:00,  1.12s/batch, loss: 145.702148%, accuracy: 47.959999% [4796/10000]]\n"
     ]
    }
   ],
   "source": [
    "import os, sys\n",
    "sys.path.append('../')\n",
    "from utils.trainer import train, test\n",
    "\n",
    "epochs = 10\n",
    "\n",
    "for epoch in range(1, epochs + 1):\n",
    "    print(f\"Epoch {epoch}:\")\n",
    "    train(model, train_loader, optimizer, loss_fn, 10)\n",
    "    test(model, test_loader, loss_fn, 10)"
   ]
  },
  {
   "cell_type": "code",
   "execution_count": null,
   "metadata": {},
   "outputs": [],
   "source": [
    "# from torchvision import models\n",
    "\n",
    "# models.resnet152()"
   ]
  }
 ],
 "metadata": {
  "interpreter": {
   "hash": "183bbf6827d058c2a2fb0f4acdc0420849dda2b4380af0e437e38c64d798d8b7"
  },
  "kernelspec": {
   "display_name": "Python 3.9.7 ('base')",
   "language": "python",
   "name": "python3"
  },
  "language_info": {
   "codemirror_mode": {
    "name": "ipython",
    "version": 3
   },
   "file_extension": ".py",
   "mimetype": "text/x-python",
   "name": "python",
   "nbconvert_exporter": "python",
   "pygments_lexer": "ipython3",
   "version": "3.9.7"
  },
  "orig_nbformat": 4
 },
 "nbformat": 4,
 "nbformat_minor": 2
}
