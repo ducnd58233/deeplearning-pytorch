{
 "cells": [
  {
   "cell_type": "code",
   "execution_count": 1,
   "metadata": {},
   "outputs": [],
   "source": [
    "import torch\n",
    "import torch.nn as nn\n",
    "\n",
    "from torchvision.datasets import CIFAR10\n",
    "from torchvision import transforms\n",
    "from torch.utils.data import DataLoader\n",
    "\n",
    "\n",
    "device = torch.device(\"cuda\") if torch.cuda.is_available() else torch.device(\"cpu\")"
   ]
  },
  {
   "cell_type": "code",
   "execution_count": 2,
   "metadata": {},
   "outputs": [
    {
     "name": "stdout",
     "output_type": "stream",
     "text": [
      "Files already downloaded and verified\n",
      "Files already downloaded and verified\n"
     ]
    }
   ],
   "source": [
    "train_data = CIFAR10(\n",
    "    root='../data', \n",
    "    train=True, \n",
    "    download=True, \n",
    "    transform=transforms.Compose([\n",
    "        transforms.ToTensor(),\n",
    "        transforms.Normalize((0.4914, 0.4822, 0.4465), (0.2023, 0.1994, 0.2010))\n",
    "    ])\n",
    ")\n",
    "test_data = CIFAR10(\n",
    "    root='../data', \n",
    "    train=False, \n",
    "    download=True, \n",
    "    transform=transforms.Compose([\n",
    "        transforms.ToTensor(),\n",
    "        transforms.Normalize((0.4914, 0.4822, 0.4465), (0.2023, 0.1994, 0.2010))\n",
    "    ])\n",
    ")"
   ]
  },
  {
   "cell_type": "code",
   "execution_count": 3,
   "metadata": {},
   "outputs": [],
   "source": [
    "import os, sys\n",
    "sys.path.append('../')\n",
    "from models.cnn.VGG.VGG import vgg16_bn\n",
    "\n",
    "learning_rate = 1e-4\n",
    "\n",
    "vgg16_bn = vgg16_bn(num_classes=10, in_channels=3).to(device)\n",
    "loss_fn = nn.CrossEntropyLoss()\n",
    "optimizer = torch.optim.Adam(vgg16_bn.parameters(), lr=learning_rate)\n",
    "\n",
    "train_loader = DataLoader(dataset=train_data, batch_size=512, num_workers=4, shuffle=True)\n",
    "test_loader = DataLoader(dataset=test_data, batch_size=512, num_workers=4, shuffle=False)"
   ]
  },
  {
   "cell_type": "code",
   "execution_count": 4,
   "metadata": {},
   "outputs": [
    {
     "name": "stdout",
     "output_type": "stream",
     "text": [
      "Epoch 1:\n"
     ]
    },
    {
     "name": "stderr",
     "output_type": "stream",
     "text": [
      "Train: 100%|██████████| 98/98 [12:35<00:00,  7.71s/batch, loss: 196.715164%, accuracy: 12.504000% [6252/50000]]\n",
      "Test: 100%|██████████| 20/20 [00:54<00:00,  2.72s/batch, loss: 197.166550%, accuracy: 22.879999% [2288/10000]]\n"
     ]
    },
    {
     "name": "stdout",
     "output_type": "stream",
     "text": [
      "Epoch 2:\n"
     ]
    },
    {
     "name": "stderr",
     "output_type": "stream",
     "text": [
      "Train: 100%|██████████| 98/98 [11:48<00:00,  7.23s/batch, loss: 151.505066%, accuracy: 30.570000% [15285/50000]]\n",
      "Test: 100%|██████████| 20/20 [00:53<00:00,  2.67s/batch, loss: 151.160202%, accuracy: 42.970001% [4297/10000]]\n"
     ]
    },
    {
     "name": "stdout",
     "output_type": "stream",
     "text": [
      "Epoch 3:\n"
     ]
    },
    {
     "name": "stderr",
     "output_type": "stream",
     "text": [
      "Train: 100%|██████████| 98/98 [11:30<00:00,  7.04s/batch, loss: 115.575813%, accuracy: 47.444000% [23722/50000]]\n",
      "Test: 100%|██████████| 20/20 [00:52<00:00,  2.65s/batch, loss: 135.928070%, accuracy: 53.070000% [5307/10000]]\n"
     ]
    },
    {
     "name": "stdout",
     "output_type": "stream",
     "text": [
      "Epoch 4:\n"
     ]
    },
    {
     "name": "stderr",
     "output_type": "stream",
     "text": [
      "Train: 100%|██████████| 98/98 [11:30<00:00,  7.04s/batch, loss: 96.077087%, accuracy: 61.124001% [30562/50000]] \n",
      "Test: 100%|██████████| 20/20 [00:53<00:00,  2.66s/batch, loss: 115.958855%, accuracy: 62.320000% [6232/10000]]\n"
     ]
    },
    {
     "name": "stdout",
     "output_type": "stream",
     "text": [
      "Epoch 5:\n"
     ]
    },
    {
     "name": "stderr",
     "output_type": "stream",
     "text": [
      "Train: 100%|██████████| 98/98 [11:30<00:00,  7.05s/batch, loss: 93.947914%, accuracy: 69.690002% [34845/50000]]\n",
      "Test: 100%|██████████| 20/20 [00:53<00:00,  2.67s/batch, loss: 112.821899%, accuracy: 64.410004% [6441/10000]]\n"
     ]
    },
    {
     "name": "stdout",
     "output_type": "stream",
     "text": [
      "Epoch 6:\n"
     ]
    },
    {
     "name": "stderr",
     "output_type": "stream",
     "text": [
      "Train: 100%|██████████| 98/98 [11:30<00:00,  7.04s/batch, loss: 66.100494%, accuracy: 77.001999% [38501/50000]]\n",
      "Test: 100%|██████████| 20/20 [00:53<00:00,  2.67s/batch, loss: 107.694626%, accuracy: 65.019997% [6502/10000]]\n"
     ]
    },
    {
     "name": "stdout",
     "output_type": "stream",
     "text": [
      "Epoch 7:\n"
     ]
    },
    {
     "name": "stderr",
     "output_type": "stream",
     "text": [
      "Train: 100%|██████████| 98/98 [11:31<00:00,  7.06s/batch, loss: 57.324516%, accuracy: 83.491997% [41746/50000]]\n",
      "Test: 100%|██████████| 20/20 [00:53<00:00,  2.66s/batch, loss: 118.875214%, accuracy: 65.580002% [6558/10000]]\n"
     ]
    },
    {
     "name": "stdout",
     "output_type": "stream",
     "text": [
      "Epoch 8:\n"
     ]
    },
    {
     "name": "stderr",
     "output_type": "stream",
     "text": [
      "Train: 100%|██████████| 98/98 [11:32<00:00,  7.06s/batch, loss: 41.952911%, accuracy: 88.293999% [44147/50000]]\n",
      "Test: 100%|██████████| 20/20 [00:53<00:00,  2.65s/batch, loss: 133.113205%, accuracy: 67.430000% [6743/10000]]\n"
     ]
    },
    {
     "name": "stdout",
     "output_type": "stream",
     "text": [
      "Epoch 9:\n"
     ]
    },
    {
     "name": "stderr",
     "output_type": "stream",
     "text": [
      "Train: 100%|██████████| 98/98 [11:31<00:00,  7.06s/batch, loss: 23.969183%, accuracy: 91.972000% [45986/50000]]\n",
      "Test: 100%|██████████| 20/20 [00:52<00:00,  2.64s/batch, loss: 175.458618%, accuracy: 61.080002% [6108/10000]]\n"
     ]
    },
    {
     "name": "stdout",
     "output_type": "stream",
     "text": [
      "Epoch 10:\n"
     ]
    },
    {
     "name": "stderr",
     "output_type": "stream",
     "text": [
      "Train: 100%|██████████| 98/98 [11:44<00:00,  7.19s/batch, loss: 15.346122%, accuracy: 94.181999% [47091/50000]]\n",
      "Test: 100%|██████████| 20/20 [01:04<00:00,  3.20s/batch, loss: 145.452789%, accuracy: 67.110001% [6711/10000]]\n"
     ]
    }
   ],
   "source": [
    "import os, sys\n",
    "sys.path.append('../')\n",
    "from utils.trainer import train, test\n",
    "\n",
    "epochs = 10\n",
    "\n",
    "for epoch in range(1, epochs + 1):\n",
    "    print(f\"Epoch {epoch}:\")\n",
    "    train(vgg16_bn, train_loader, optimizer, loss_fn, 10)\n",
    "    test(vgg16_bn, test_loader, loss_fn, 10)"
   ]
  }
 ],
 "metadata": {
  "interpreter": {
   "hash": "183bbf6827d058c2a2fb0f4acdc0420849dda2b4380af0e437e38c64d798d8b7"
  },
  "kernelspec": {
   "display_name": "Python 3.9.7 ('base')",
   "language": "python",
   "name": "python3"
  },
  "language_info": {
   "codemirror_mode": {
    "name": "ipython",
    "version": 3
   },
   "file_extension": ".py",
   "mimetype": "text/x-python",
   "name": "python",
   "nbconvert_exporter": "python",
   "pygments_lexer": "ipython3",
   "version": "3.9.7"
  },
  "orig_nbformat": 4
 },
 "nbformat": 4,
 "nbformat_minor": 2
}
